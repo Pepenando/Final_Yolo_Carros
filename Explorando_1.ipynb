{
 "cells": [
  {
   "cell_type": "code",
   "execution_count": 14,
   "metadata": {},
   "outputs": [],
   "source": [
    "import os\n",
    "import os.path\n",
    "import numpy as np\n",
    "#import argparse\n",
    "import cv2\n",
    "\n",
    "%matplotlib inline"
   ]
  },
  {
   "cell_type": "code",
   "execution_count": 6,
   "metadata": {},
   "outputs": [],
   "source": [
    "from pathlib import Path"
   ]
  },
  {
   "cell_type": "code",
   "execution_count": 10,
   "metadata": {},
   "outputs": [
    {
     "name": "stdout",
     "output_type": "stream",
     "text": [
      "c:\\Users\\jarma\\Documents\\CIMAT\\3erSem\\Temas Selectos CD\\ProyectoFinal\n"
     ]
    }
   ],
   "source": [
    "print(Path().absolute())"
   ]
  },
  {
   "cell_type": "code",
   "execution_count": 8,
   "metadata": {},
   "outputs": [],
   "source": [
    "folder_path = r\"C:\\Users\\jarma\\Documents\\CIMAT\\3erSem\\Temas Selectos CD\\ProyectoFinal\\dataset\\img\"\n",
    "folder_path = Path(folder_path)\n",
    "img_name = \"32x310100001.png\"\n",
    "txt_name = \"32x310100001.txt\""
   ]
  },
  {
   "cell_type": "code",
   "execution_count": 12,
   "metadata": {},
   "outputs": [
    {
     "data": {
      "text/plain": [
       "WindowsPath('C:/Users/jarma/Documents/CIMAT/3erSem/Temas Selectos CD/ProyectoFinal/dataset/img/32x310100001.png')"
      ]
     },
     "execution_count": 12,
     "metadata": {},
     "output_type": "execute_result"
    }
   ],
   "source": [
    "img_path = folder_path / img_name\n",
    "img_path"
   ]
  },
  {
   "cell_type": "code",
   "execution_count": 72,
   "metadata": {},
   "outputs": [],
   "source": [
    "frame = cv2.imread(str(img_path))"
   ]
  },
  {
   "cell_type": "code",
   "execution_count": 73,
   "metadata": {},
   "outputs": [],
   "source": [
    "h, w, _ = frame.shape"
   ]
  },
  {
   "cell_type": "code",
   "execution_count": 20,
   "metadata": {},
   "outputs": [
    {
     "name": "stdout",
     "output_type": "stream",
     "text": [
      "3840\n",
      "2160\n"
     ]
    }
   ],
   "source": [
    "print(w)\n",
    "print(h)"
   ]
  },
  {
   "cell_type": "code",
   "execution_count": 74,
   "metadata": {},
   "outputs": [],
   "source": [
    "scale_percent = 25 / 100\n",
    "res_h = int(h * scale_percent)\n",
    "res_w = int(w * scale_percent)\n",
    "dim = (res_w, res_h)\n",
    "  \n",
    "# resize image\n",
    "resized = cv2.resize(frame, dim, interpolation = cv2.INTER_AREA)"
   ]
  },
  {
   "cell_type": "code",
   "execution_count": 75,
   "metadata": {},
   "outputs": [],
   "source": [
    "cv2.imshow('image',resized)\n",
    "cv2.waitKey(0)\n",
    "cv2.destroyAllWindows()"
   ]
  },
  {
   "cell_type": "code",
   "execution_count": 33,
   "metadata": {},
   "outputs": [],
   "source": [
    "txt_path = folder_path / txt_name"
   ]
  },
  {
   "cell_type": "code",
   "execution_count": 40,
   "metadata": {},
   "outputs": [
    {
     "name": "stdout",
     "output_type": "stream",
     "text": [
      "0 0.465374 0.473938 0.024007 0.098456\n",
      "\n"
     ]
    }
   ],
   "source": [
    "with txt_path.open() as f: print(f.readline())"
   ]
  },
  {
   "cell_type": "code",
   "execution_count": 46,
   "metadata": {},
   "outputs": [
    {
     "data": {
      "text/html": [
       "<div>\n",
       "<style scoped>\n",
       "    .dataframe tbody tr th:only-of-type {\n",
       "        vertical-align: middle;\n",
       "    }\n",
       "\n",
       "    .dataframe tbody tr th {\n",
       "        vertical-align: top;\n",
       "    }\n",
       "\n",
       "    .dataframe thead th {\n",
       "        text-align: right;\n",
       "    }\n",
       "</style>\n",
       "<table border=\"1\" class=\"dataframe\">\n",
       "  <thead>\n",
       "    <tr style=\"text-align: right;\">\n",
       "      <th></th>\n",
       "      <th>0</th>\n",
       "      <th>1</th>\n",
       "      <th>2</th>\n",
       "      <th>3</th>\n",
       "      <th>4</th>\n",
       "    </tr>\n",
       "  </thead>\n",
       "  <tbody>\n",
       "    <tr>\n",
       "      <th>0</th>\n",
       "      <td>0</td>\n",
       "      <td>0.465374</td>\n",
       "      <td>0.473938</td>\n",
       "      <td>0.024007</td>\n",
       "      <td>0.098456</td>\n",
       "    </tr>\n",
       "    <tr>\n",
       "      <th>1</th>\n",
       "      <td>0</td>\n",
       "      <td>0.704063</td>\n",
       "      <td>0.358108</td>\n",
       "      <td>0.063712</td>\n",
       "      <td>0.048263</td>\n",
       "    </tr>\n",
       "    <tr>\n",
       "      <th>2</th>\n",
       "      <td>0</td>\n",
       "      <td>0.906279</td>\n",
       "      <td>0.231660</td>\n",
       "      <td>0.069252</td>\n",
       "      <td>0.057915</td>\n",
       "    </tr>\n",
       "    <tr>\n",
       "      <th>3</th>\n",
       "      <td>0</td>\n",
       "      <td>0.960757</td>\n",
       "      <td>0.060811</td>\n",
       "      <td>0.041551</td>\n",
       "      <td>0.121622</td>\n",
       "    </tr>\n",
       "    <tr>\n",
       "      <th>4</th>\n",
       "      <td>0</td>\n",
       "      <td>0.314866</td>\n",
       "      <td>0.720077</td>\n",
       "      <td>0.072022</td>\n",
       "      <td>0.046332</td>\n",
       "    </tr>\n",
       "    <tr>\n",
       "      <th>5</th>\n",
       "      <td>0</td>\n",
       "      <td>0.226685</td>\n",
       "      <td>0.706564</td>\n",
       "      <td>0.058172</td>\n",
       "      <td>0.042471</td>\n",
       "    </tr>\n",
       "    <tr>\n",
       "      <th>6</th>\n",
       "      <td>0</td>\n",
       "      <td>0.120960</td>\n",
       "      <td>0.698842</td>\n",
       "      <td>0.057248</td>\n",
       "      <td>0.057915</td>\n",
       "    </tr>\n",
       "    <tr>\n",
       "      <th>7</th>\n",
       "      <td>4</td>\n",
       "      <td>0.029086</td>\n",
       "      <td>0.780888</td>\n",
       "      <td>0.034164</td>\n",
       "      <td>0.021236</td>\n",
       "    </tr>\n",
       "    <tr>\n",
       "      <th>8</th>\n",
       "      <td>6</td>\n",
       "      <td>0.305171</td>\n",
       "      <td>0.689189</td>\n",
       "      <td>0.012004</td>\n",
       "      <td>0.019305</td>\n",
       "    </tr>\n",
       "    <tr>\n",
       "      <th>9</th>\n",
       "      <td>6</td>\n",
       "      <td>0.515235</td>\n",
       "      <td>0.957529</td>\n",
       "      <td>0.012927</td>\n",
       "      <td>0.027027</td>\n",
       "    </tr>\n",
       "    <tr>\n",
       "      <th>10</th>\n",
       "      <td>6</td>\n",
       "      <td>0.733149</td>\n",
       "      <td>0.329151</td>\n",
       "      <td>0.011080</td>\n",
       "      <td>0.025097</td>\n",
       "    </tr>\n",
       "    <tr>\n",
       "      <th>11</th>\n",
       "      <td>6</td>\n",
       "      <td>0.774238</td>\n",
       "      <td>0.330116</td>\n",
       "      <td>0.021237</td>\n",
       "      <td>0.023166</td>\n",
       "    </tr>\n",
       "    <tr>\n",
       "      <th>12</th>\n",
       "      <td>5</td>\n",
       "      <td>0.797784</td>\n",
       "      <td>0.315637</td>\n",
       "      <td>0.029548</td>\n",
       "      <td>0.028958</td>\n",
       "    </tr>\n",
       "  </tbody>\n",
       "</table>\n",
       "</div>"
      ],
      "text/plain": [
       "    0         1         2         3         4\n",
       "0   0  0.465374  0.473938  0.024007  0.098456\n",
       "1   0  0.704063  0.358108  0.063712  0.048263\n",
       "2   0  0.906279  0.231660  0.069252  0.057915\n",
       "3   0  0.960757  0.060811  0.041551  0.121622\n",
       "4   0  0.314866  0.720077  0.072022  0.046332\n",
       "5   0  0.226685  0.706564  0.058172  0.042471\n",
       "6   0  0.120960  0.698842  0.057248  0.057915\n",
       "7   4  0.029086  0.780888  0.034164  0.021236\n",
       "8   6  0.305171  0.689189  0.012004  0.019305\n",
       "9   6  0.515235  0.957529  0.012927  0.027027\n",
       "10  6  0.733149  0.329151  0.011080  0.025097\n",
       "11  6  0.774238  0.330116  0.021237  0.023166\n",
       "12  5  0.797784  0.315637  0.029548  0.028958"
      ]
     },
     "execution_count": 46,
     "metadata": {},
     "output_type": "execute_result"
    }
   ],
   "source": [
    "import pandas as pd\n",
    "\n",
    "data = pd.read_csv(txt_path,sep=\" \",header=None)\n",
    "data"
   ]
  },
  {
   "cell_type": "code",
   "execution_count": 59,
   "metadata": {},
   "outputs": [
    {
     "data": {
      "text/plain": [
       "0.465374"
      ]
     },
     "execution_count": 59,
     "metadata": {},
     "output_type": "execute_result"
    }
   ],
   "source": [
    "data.iloc[0,1]"
   ]
  },
  {
   "cell_type": "code",
   "execution_count": 54,
   "metadata": {},
   "outputs": [
    {
     "data": {
      "text/plain": [
       "['Auto', 'Camion', 'Autobus', 'Combi', 'Moto', 'Bici', 'Peaton']"
      ]
     },
     "execution_count": 54,
     "metadata": {},
     "output_type": "execute_result"
    }
   ],
   "source": [
    "classes_path = Path(r\"C:\\Users\\jarma\\Documents\\CIMAT\\3erSem\\Temas Selectos CD\\ProyectoFinal\\dataset\\obj.names\")\n",
    "the_classes = pd.read_csv(classes_path,header=None,sep=\" \")[0].to_list()\n",
    "the_classes"
   ]
  },
  {
   "cell_type": "code",
   "execution_count": 95,
   "metadata": {},
   "outputs": [],
   "source": [
    "output = resized.copy()"
   ]
  },
  {
   "cell_type": "code",
   "execution_count": 91,
   "metadata": {},
   "outputs": [],
   "source": [
    "centerX = int(data.iloc[0,1] * res_w)\n",
    "centerY = int(data.iloc[0,2] * res_h)\n",
    "widthX = int(data.iloc[0,3] * res_w)\n",
    "heightY = int(data.iloc[0,4] * res_h)\n",
    "startX = centerX - int(widthX/2)\n",
    "startY = centerY - int(heightY/2)\n",
    "endX = centerX + int(widthX/2)\n",
    "endY = centerY + int(heightY/2)"
   ]
  },
  {
   "cell_type": "code",
   "execution_count": 92,
   "metadata": {},
   "outputs": [],
   "source": [
    "# inicializa colores\n",
    "COLORS = np.random.uniform(0, 255, size=(len(the_classes), 3))\n",
    "# twist because imread and imwrite works in BGR\n",
    "COLORS[0] = 51, 204, 51\n",
    "COLORS[1] = 0, 51, 255"
   ]
  },
  {
   "cell_type": "code",
   "execution_count": 96,
   "metadata": {},
   "outputs": [
    {
     "data": {
      "text/plain": [
       "array([[[175, 190, 199],\n",
       "        [171, 187, 197],\n",
       "        [168, 186, 198],\n",
       "        ...,\n",
       "        [ 52,  46,  40],\n",
       "        [ 51,  47,  37],\n",
       "        [ 53,  49,  38]],\n",
       "\n",
       "       [[176, 191, 200],\n",
       "        [169, 185, 195],\n",
       "        [172, 189, 202],\n",
       "        ...,\n",
       "        [ 58,  52,  47],\n",
       "        [ 52,  45,  43],\n",
       "        [ 52,  45,  43]],\n",
       "\n",
       "       [[178, 193, 202],\n",
       "        [170, 186, 196],\n",
       "        [166, 184, 196],\n",
       "        ...,\n",
       "        [ 58,  51,  48],\n",
       "        [ 56,  49,  47],\n",
       "        [ 62,  54,  53]],\n",
       "\n",
       "       ...,\n",
       "\n",
       "       [[ 29,  79,  59],\n",
       "        [ 26,  96,  80],\n",
       "        [ 52, 127, 103],\n",
       "        ...,\n",
       "        [ 64, 106,  79],\n",
       "        [ 55, 102,  80],\n",
       "        [ 29,  58,  47]],\n",
       "\n",
       "       [[ 53, 122,  98],\n",
       "        [ 37, 111,  93],\n",
       "        [ 52, 134, 101],\n",
       "        ...,\n",
       "        [ 25,  50,  40],\n",
       "        [ 25,  55,  45],\n",
       "        [ 16,  48,  38]],\n",
       "\n",
       "       [[ 36, 112,  87],\n",
       "        [ 43, 130,  97],\n",
       "        [ 32, 136,  99],\n",
       "        ...,\n",
       "        [  8,  27,  13],\n",
       "        [ 15,  40,  24],\n",
       "        [ 17,  56,  38]]], dtype=uint8)"
      ]
     },
     "execution_count": 96,
     "metadata": {},
     "output_type": "execute_result"
    }
   ],
   "source": [
    "label = \"{}\".format(the_classes[data.iloc[0,0]])\n",
    "cv2.rectangle(output, (startX, startY), (endX, endY),\n",
    "    COLORS[0],2)\n",
    "\n",
    "y = startY - 10 if startY - 10 > 10 else startY + 10\n",
    "cv2.putText(output, label, (startX, y),\n",
    "    cv2.FONT_HERSHEY_SIMPLEX, 0.4, COLORS[1], 1)"
   ]
  },
  {
   "cell_type": "code",
   "execution_count": 97,
   "metadata": {},
   "outputs": [],
   "source": [
    "cv2.imshow('image',output)\n",
    "cv2.waitKey(0)\n",
    "cv2.destroyAllWindows()"
   ]
  },
  {
   "cell_type": "code",
   "execution_count": 104,
   "metadata": {},
   "outputs": [],
   "source": [
    "output = resized.copy()\n",
    "for i in range(data.shape[0]):\n",
    "    centerX = int(data.iloc[i,1] * res_w)\n",
    "    centerY = int(data.iloc[i,2] * res_h)\n",
    "    widthX = int(data.iloc[i,3] * res_w)\n",
    "    heightY = int(data.iloc[i,4] * res_h)\n",
    "    startX = centerX - int(widthX/2)\n",
    "    startY = centerY - int(heightY/2)\n",
    "    endX = centerX + int(widthX/2)\n",
    "    endY = centerY + int(heightY/2)\n",
    "\n",
    "    label = \"{}\".format(the_classes[data.iloc[i,0]])\n",
    "    output = cv2.rectangle(output, (startX, startY), (endX, endY),\n",
    "        COLORS[0],2)\n",
    "\n",
    "    y = startY - 10 if startY - 10 > 10 else startY + 10\n",
    "    output = cv2.putText(output, label, (startX, y),\n",
    "        cv2.FONT_HERSHEY_SIMPLEX, 0.4, COLORS[1], 1)"
   ]
  },
  {
   "cell_type": "code",
   "execution_count": 105,
   "metadata": {},
   "outputs": [],
   "source": [
    "cv2.imshow('image',output)\n",
    "cv2.waitKey(0)\n",
    "cv2.destroyAllWindows()"
   ]
  },
  {
   "cell_type": "code",
   "execution_count": 120,
   "metadata": {},
   "outputs": [],
   "source": [
    "all_images = [img.name for img in folder_path.glob('*.png')]\n",
    "all_txts = [txt.name for txt in folder_path.glob('*.txt')]\n",
    "all_names = [img.stem for img in folder_path.glob('*.png')]\n"
   ]
  },
  {
   "cell_type": "code",
   "execution_count": 124,
   "metadata": {},
   "outputs": [],
   "source": [
    "pd.Series(all_images).to_csv(Path.cwd()/\"out\"/\"img.txt\",header=None,sep=\" \",index=False)\n",
    "pd.Series(all_txts).to_csv(Path.cwd()/\"out\"/\"txts.txt\",header=None,sep=\" \",index=False)\n",
    "pd.Series(all_names).to_csv(Path.cwd()/\"out\"/\"names.txt\",header=None,sep=\" \",index=False)"
   ]
  },
  {
   "cell_type": "code",
   "execution_count": 125,
   "metadata": {},
   "outputs": [
    {
     "name": "stdout",
     "output_type": "stream",
     "text": [
      "1133\n",
      "1133\n"
     ]
    }
   ],
   "source": [
    "print(len(all_txts))\n",
    "print(len(all_images))"
   ]
  },
  {
   "cell_type": "code",
   "execution_count": null,
   "metadata": {},
   "outputs": [],
   "source": [
    "# randomizer"
   ]
  },
  {
   "cell_type": "code",
   "execution_count": 143,
   "metadata": {},
   "outputs": [],
   "source": [
    "the_names = pd.read_csv(Path.cwd()/\"out\"/\"names.txt\",header=None,sep=\" \").iloc[:,0].to_list()"
   ]
  },
  {
   "cell_type": "code",
   "execution_count": 181,
   "metadata": {},
   "outputs": [],
   "source": [
    "#np.random.seed(10)\n",
    "r = np.random.randint(0,len(the_names))\n",
    "temp_name = the_names[r]\n",
    "img_path = folder_path / (temp_name + \".png\")\n",
    "txt_path = folder_path / (temp_name + \".txt\")\n",
    "\n",
    "data = pd.read_csv(txt_path,sep=\" \",header=None)\n",
    "frame = cv2.imread(str(img_path))\n",
    "h, w, _ = frame.shape\n",
    "\n",
    "scale_percent = 25 / 100\n",
    "res_h = int(h * scale_percent)\n",
    "res_w = int(w * scale_percent)\n",
    "dim = (res_w, res_h)\n",
    "resized = cv2.resize(frame, dim, interpolation = cv2.INTER_AREA)\n",
    "\n",
    "output = resized.copy()\n",
    "for i in range(data.shape[0]):\n",
    "    centerX = int(data.iloc[i,1] * res_w)\n",
    "    centerY = int(data.iloc[i,2] * res_h)\n",
    "    widthX = int(data.iloc[i,3] * res_w)\n",
    "    heightY = int(data.iloc[i,4] * res_h)\n",
    "    startX = centerX - int(widthX/2)\n",
    "    startY = centerY - int(heightY/2)\n",
    "    endX = centerX + int(widthX/2)\n",
    "    endY = centerY + int(heightY/2)\n",
    "\n",
    "    label = \"{}\".format(the_classes[data.iloc[i,0]])\n",
    "    output = cv2.rectangle(output, (startX, startY), (endX, endY),\n",
    "        COLORS[0],2)\n",
    "\n",
    "    y = startY - 10 if startY - 10 > 10 else startY + 10\n",
    "    output = cv2.putText(output, label, (startX, y),\n",
    "        cv2.FONT_HERSHEY_SIMPLEX, 0.4, COLORS[1], 1)\n",
    "    \n",
    "cv2.imshow('image',output)\n",
    "cv2.waitKey(0)\n",
    "cv2.destroyAllWindows()\n"
   ]
  },
  {
   "cell_type": "code",
   "execution_count": 186,
   "metadata": {},
   "outputs": [
    {
     "data": {
      "text/html": [
       "<div>\n",
       "<style scoped>\n",
       "    .dataframe tbody tr th:only-of-type {\n",
       "        vertical-align: middle;\n",
       "    }\n",
       "\n",
       "    .dataframe tbody tr th {\n",
       "        vertical-align: top;\n",
       "    }\n",
       "\n",
       "    .dataframe thead th {\n",
       "        text-align: right;\n",
       "    }\n",
       "</style>\n",
       "<table border=\"1\" class=\"dataframe\">\n",
       "  <thead>\n",
       "    <tr style=\"text-align: right;\">\n",
       "      <th></th>\n",
       "      <th>0</th>\n",
       "      <th>1</th>\n",
       "      <th>2</th>\n",
       "      <th>3</th>\n",
       "      <th>4</th>\n",
       "      <th>5</th>\n",
       "    </tr>\n",
       "  </thead>\n",
       "  <tbody>\n",
       "    <tr>\n",
       "      <th>0</th>\n",
       "      <td>0</td>\n",
       "      <td>0.524931</td>\n",
       "      <td>0.183398</td>\n",
       "      <td>0.024931</td>\n",
       "      <td>0.104247</td>\n",
       "      <td>32x310101301</td>\n",
       "    </tr>\n",
       "    <tr>\n",
       "      <th>1</th>\n",
       "      <td>0</td>\n",
       "      <td>0.465374</td>\n",
       "      <td>0.476834</td>\n",
       "      <td>0.022161</td>\n",
       "      <td>0.100386</td>\n",
       "      <td>32x310101301</td>\n",
       "    </tr>\n",
       "    <tr>\n",
       "      <th>2</th>\n",
       "      <td>0</td>\n",
       "      <td>0.703139</td>\n",
       "      <td>0.357143</td>\n",
       "      <td>0.058172</td>\n",
       "      <td>0.046332</td>\n",
       "      <td>32x310101301</td>\n",
       "    </tr>\n",
       "    <tr>\n",
       "      <th>3</th>\n",
       "      <td>0</td>\n",
       "      <td>0.908587</td>\n",
       "      <td>0.233591</td>\n",
       "      <td>0.059095</td>\n",
       "      <td>0.057915</td>\n",
       "      <td>32x310101301</td>\n",
       "    </tr>\n",
       "    <tr>\n",
       "      <th>4</th>\n",
       "      <td>0</td>\n",
       "      <td>0.957987</td>\n",
       "      <td>0.064672</td>\n",
       "      <td>0.036011</td>\n",
       "      <td>0.125483</td>\n",
       "      <td>32x310101301</td>\n",
       "    </tr>\n",
       "    <tr>\n",
       "      <th>5</th>\n",
       "      <td>0</td>\n",
       "      <td>0.313481</td>\n",
       "      <td>0.722973</td>\n",
       "      <td>0.074792</td>\n",
       "      <td>0.048263</td>\n",
       "      <td>32x310101301</td>\n",
       "    </tr>\n",
       "    <tr>\n",
       "      <th>6</th>\n",
       "      <td>0</td>\n",
       "      <td>0.226223</td>\n",
       "      <td>0.708494</td>\n",
       "      <td>0.059095</td>\n",
       "      <td>0.042471</td>\n",
       "      <td>32x310101301</td>\n",
       "    </tr>\n",
       "    <tr>\n",
       "      <th>7</th>\n",
       "      <td>0</td>\n",
       "      <td>0.118652</td>\n",
       "      <td>0.696911</td>\n",
       "      <td>0.054478</td>\n",
       "      <td>0.050193</td>\n",
       "      <td>32x310101301</td>\n",
       "    </tr>\n",
       "    <tr>\n",
       "      <th>8</th>\n",
       "      <td>4</td>\n",
       "      <td>0.582641</td>\n",
       "      <td>0.271236</td>\n",
       "      <td>0.025854</td>\n",
       "      <td>0.028958</td>\n",
       "      <td>32x310101301</td>\n",
       "    </tr>\n",
       "    <tr>\n",
       "      <th>9</th>\n",
       "      <td>6</td>\n",
       "      <td>0.739612</td>\n",
       "      <td>0.375483</td>\n",
       "      <td>0.009234</td>\n",
       "      <td>0.025097</td>\n",
       "      <td>32x310101301</td>\n",
       "    </tr>\n",
       "    <tr>\n",
       "      <th>10</th>\n",
       "      <td>6</td>\n",
       "      <td>0.883195</td>\n",
       "      <td>0.246139</td>\n",
       "      <td>0.019391</td>\n",
       "      <td>0.021236</td>\n",
       "      <td>32x310101301</td>\n",
       "    </tr>\n",
       "    <tr>\n",
       "      <th>11</th>\n",
       "      <td>6</td>\n",
       "      <td>0.882271</td>\n",
       "      <td>0.223938</td>\n",
       "      <td>0.021237</td>\n",
       "      <td>0.023166</td>\n",
       "      <td>32x310101301</td>\n",
       "    </tr>\n",
       "    <tr>\n",
       "      <th>12</th>\n",
       "      <td>6</td>\n",
       "      <td>0.301939</td>\n",
       "      <td>0.695946</td>\n",
       "      <td>0.014774</td>\n",
       "      <td>0.028958</td>\n",
       "      <td>32x310101301</td>\n",
       "    </tr>\n",
       "  </tbody>\n",
       "</table>\n",
       "</div>"
      ],
      "text/plain": [
       "    0         1         2         3         4             5\n",
       "0   0  0.524931  0.183398  0.024931  0.104247  32x310101301\n",
       "1   0  0.465374  0.476834  0.022161  0.100386  32x310101301\n",
       "2   0  0.703139  0.357143  0.058172  0.046332  32x310101301\n",
       "3   0  0.908587  0.233591  0.059095  0.057915  32x310101301\n",
       "4   0  0.957987  0.064672  0.036011  0.125483  32x310101301\n",
       "5   0  0.313481  0.722973  0.074792  0.048263  32x310101301\n",
       "6   0  0.226223  0.708494  0.059095  0.042471  32x310101301\n",
       "7   0  0.118652  0.696911  0.054478  0.050193  32x310101301\n",
       "8   4  0.582641  0.271236  0.025854  0.028958  32x310101301\n",
       "9   6  0.739612  0.375483  0.009234  0.025097  32x310101301\n",
       "10  6  0.883195  0.246139  0.019391  0.021236  32x310101301\n",
       "11  6  0.882271  0.223938  0.021237  0.023166  32x310101301\n",
       "12  6  0.301939  0.695946  0.014774  0.028958  32x310101301"
      ]
     },
     "execution_count": 186,
     "metadata": {},
     "output_type": "execute_result"
    }
   ],
   "source": [
    "data"
   ]
  },
  {
   "cell_type": "code",
   "execution_count": 187,
   "metadata": {},
   "outputs": [],
   "source": [
    "for i in range(len(the_names)):\n",
    "    \n",
    "    temp_name = the_names[i]\n",
    "    img_path = folder_path / (temp_name + \".png\")\n",
    "    txt_path = folder_path / (temp_name + \".txt\")\n",
    "\n",
    "    data = pd.read_csv(txt_path,sep=\" \",header=None)\n",
    "    frame = cv2.imread(str(img_path))\n",
    "    h, w, _ = frame.shape\n",
    "    \n",
    "    data = pd.read_csv(txt_path,sep=\" \",header=None, \n",
    "                       names=[\"class\", \"cX\", \"cY\", \"wX\", \"hY\"])\n",
    "    \n",
    "    data[\"name\"] = temp_name\n",
    "    data[\"Wraw\"] = w\n",
    "    data[\"Hraw\"] = h\n",
    "    \n",
    "    if i == 0:\n",
    "        vault = data.copy()\n",
    "    else:\n",
    "        vault = vault.append(data)\n",
    "    "
   ]
  },
  {
   "cell_type": "code",
   "execution_count": 192,
   "metadata": {},
   "outputs": [
    {
     "data": {
      "text/html": [
       "<div>\n",
       "<style scoped>\n",
       "    .dataframe tbody tr th:only-of-type {\n",
       "        vertical-align: middle;\n",
       "    }\n",
       "\n",
       "    .dataframe tbody tr th {\n",
       "        vertical-align: top;\n",
       "    }\n",
       "\n",
       "    .dataframe thead th {\n",
       "        text-align: right;\n",
       "    }\n",
       "</style>\n",
       "<table border=\"1\" class=\"dataframe\">\n",
       "  <thead>\n",
       "    <tr style=\"text-align: right;\">\n",
       "      <th></th>\n",
       "      <th>class</th>\n",
       "      <th>cX</th>\n",
       "      <th>cY</th>\n",
       "      <th>wX</th>\n",
       "      <th>hY</th>\n",
       "      <th>name</th>\n",
       "      <th>Wraw</th>\n",
       "      <th>Hraw</th>\n",
       "    </tr>\n",
       "  </thead>\n",
       "  <tbody>\n",
       "    <tr>\n",
       "      <th>0</th>\n",
       "      <td>0</td>\n",
       "      <td>0.465374</td>\n",
       "      <td>0.473938</td>\n",
       "      <td>0.024007</td>\n",
       "      <td>0.098456</td>\n",
       "      <td>32x310100001</td>\n",
       "      <td>3840</td>\n",
       "      <td>2160</td>\n",
       "    </tr>\n",
       "    <tr>\n",
       "      <th>1</th>\n",
       "      <td>0</td>\n",
       "      <td>0.704063</td>\n",
       "      <td>0.358108</td>\n",
       "      <td>0.063712</td>\n",
       "      <td>0.048263</td>\n",
       "      <td>32x310100001</td>\n",
       "      <td>3840</td>\n",
       "      <td>2160</td>\n",
       "    </tr>\n",
       "    <tr>\n",
       "      <th>2</th>\n",
       "      <td>0</td>\n",
       "      <td>0.906279</td>\n",
       "      <td>0.231660</td>\n",
       "      <td>0.069252</td>\n",
       "      <td>0.057915</td>\n",
       "      <td>32x310100001</td>\n",
       "      <td>3840</td>\n",
       "      <td>2160</td>\n",
       "    </tr>\n",
       "    <tr>\n",
       "      <th>3</th>\n",
       "      <td>0</td>\n",
       "      <td>0.960757</td>\n",
       "      <td>0.060811</td>\n",
       "      <td>0.041551</td>\n",
       "      <td>0.121622</td>\n",
       "      <td>32x310100001</td>\n",
       "      <td>3840</td>\n",
       "      <td>2160</td>\n",
       "    </tr>\n",
       "    <tr>\n",
       "      <th>4</th>\n",
       "      <td>0</td>\n",
       "      <td>0.314866</td>\n",
       "      <td>0.720077</td>\n",
       "      <td>0.072022</td>\n",
       "      <td>0.046332</td>\n",
       "      <td>32x310100001</td>\n",
       "      <td>3840</td>\n",
       "      <td>2160</td>\n",
       "    </tr>\n",
       "  </tbody>\n",
       "</table>\n",
       "</div>"
      ],
      "text/plain": [
       "   class        cX        cY        wX        hY          name  Wraw  Hraw\n",
       "0      0  0.465374  0.473938  0.024007  0.098456  32x310100001  3840  2160\n",
       "1      0  0.704063  0.358108  0.063712  0.048263  32x310100001  3840  2160\n",
       "2      0  0.906279  0.231660  0.069252  0.057915  32x310100001  3840  2160\n",
       "3      0  0.960757  0.060811  0.041551  0.121622  32x310100001  3840  2160\n",
       "4      0  0.314866  0.720077  0.072022  0.046332  32x310100001  3840  2160"
      ]
     },
     "execution_count": 192,
     "metadata": {},
     "output_type": "execute_result"
    }
   ],
   "source": [
    "vault.head()"
   ]
  },
  {
   "cell_type": "code",
   "execution_count": 193,
   "metadata": {},
   "outputs": [],
   "source": [
    "first_column = vault.pop('name')\n",
    "  \n",
    "vault.insert(0, 'name', first_column)"
   ]
  },
  {
   "cell_type": "code",
   "execution_count": 194,
   "metadata": {},
   "outputs": [
    {
     "data": {
      "text/html": [
       "<div>\n",
       "<style scoped>\n",
       "    .dataframe tbody tr th:only-of-type {\n",
       "        vertical-align: middle;\n",
       "    }\n",
       "\n",
       "    .dataframe tbody tr th {\n",
       "        vertical-align: top;\n",
       "    }\n",
       "\n",
       "    .dataframe thead th {\n",
       "        text-align: right;\n",
       "    }\n",
       "</style>\n",
       "<table border=\"1\" class=\"dataframe\">\n",
       "  <thead>\n",
       "    <tr style=\"text-align: right;\">\n",
       "      <th></th>\n",
       "      <th>name</th>\n",
       "      <th>class</th>\n",
       "      <th>cX</th>\n",
       "      <th>cY</th>\n",
       "      <th>wX</th>\n",
       "      <th>hY</th>\n",
       "      <th>Wraw</th>\n",
       "      <th>Hraw</th>\n",
       "    </tr>\n",
       "  </thead>\n",
       "  <tbody>\n",
       "    <tr>\n",
       "      <th>0</th>\n",
       "      <td>32x310100001</td>\n",
       "      <td>0</td>\n",
       "      <td>0.465374</td>\n",
       "      <td>0.473938</td>\n",
       "      <td>0.024007</td>\n",
       "      <td>0.098456</td>\n",
       "      <td>3840</td>\n",
       "      <td>2160</td>\n",
       "    </tr>\n",
       "    <tr>\n",
       "      <th>1</th>\n",
       "      <td>32x310100001</td>\n",
       "      <td>0</td>\n",
       "      <td>0.704063</td>\n",
       "      <td>0.358108</td>\n",
       "      <td>0.063712</td>\n",
       "      <td>0.048263</td>\n",
       "      <td>3840</td>\n",
       "      <td>2160</td>\n",
       "    </tr>\n",
       "    <tr>\n",
       "      <th>2</th>\n",
       "      <td>32x310100001</td>\n",
       "      <td>0</td>\n",
       "      <td>0.906279</td>\n",
       "      <td>0.231660</td>\n",
       "      <td>0.069252</td>\n",
       "      <td>0.057915</td>\n",
       "      <td>3840</td>\n",
       "      <td>2160</td>\n",
       "    </tr>\n",
       "    <tr>\n",
       "      <th>3</th>\n",
       "      <td>32x310100001</td>\n",
       "      <td>0</td>\n",
       "      <td>0.960757</td>\n",
       "      <td>0.060811</td>\n",
       "      <td>0.041551</td>\n",
       "      <td>0.121622</td>\n",
       "      <td>3840</td>\n",
       "      <td>2160</td>\n",
       "    </tr>\n",
       "    <tr>\n",
       "      <th>4</th>\n",
       "      <td>32x310100001</td>\n",
       "      <td>0</td>\n",
       "      <td>0.314866</td>\n",
       "      <td>0.720077</td>\n",
       "      <td>0.072022</td>\n",
       "      <td>0.046332</td>\n",
       "      <td>3840</td>\n",
       "      <td>2160</td>\n",
       "    </tr>\n",
       "  </tbody>\n",
       "</table>\n",
       "</div>"
      ],
      "text/plain": [
       "           name  class        cX        cY        wX        hY  Wraw  Hraw\n",
       "0  32x310100001      0  0.465374  0.473938  0.024007  0.098456  3840  2160\n",
       "1  32x310100001      0  0.704063  0.358108  0.063712  0.048263  3840  2160\n",
       "2  32x310100001      0  0.906279  0.231660  0.069252  0.057915  3840  2160\n",
       "3  32x310100001      0  0.960757  0.060811  0.041551  0.121622  3840  2160\n",
       "4  32x310100001      0  0.314866  0.720077  0.072022  0.046332  3840  2160"
      ]
     },
     "execution_count": 194,
     "metadata": {},
     "output_type": "execute_result"
    }
   ],
   "source": [
    "vault.head()"
   ]
  },
  {
   "cell_type": "code",
   "execution_count": 195,
   "metadata": {},
   "outputs": [],
   "source": [
    "vault.to_csv(Path.cwd()/\"out\"/\"all_data.txt\",index=False)"
   ]
  },
  {
   "cell_type": "code",
   "execution_count": null,
   "metadata": {},
   "outputs": [],
   "source": [
    "# randomizer que lea cualquier imagen\n",
    "# hojota con toda la info\n",
    "# leer en qué formato debe estar para primer entrenamiento\n",
    "# unificar clases? solo vehiculos? 1 clase, (carro, camioneta)?\n",
    "# crear recuadrito blanco para escribir clase\n",
    "# crear github, subir este archivo, tras limpiar"
   ]
  },
  {
   "cell_type": "code",
   "execution_count": null,
   "metadata": {},
   "outputs": [],
   "source": [
    "# extraer 10% de todo\n",
    "# separar en train y test, y label e img"
   ]
  },
  {
   "cell_type": "code",
   "execution_count": 208,
   "metadata": {},
   "outputs": [],
   "source": [
    "np.random.seed(42)\n",
    "how_many = int(len(the_names) * 0.1)\n",
    "chosen = list(np.random.choice(the_names,how_many,replace=False))"
   ]
  },
  {
   "cell_type": "code",
   "execution_count": 209,
   "metadata": {},
   "outputs": [],
   "source": [
    "from sklearn.model_selection import train_test_split\n",
    "chosen_train, chosen_test = train_test_split(chosen, test_size=0.25, random_state=42)"
   ]
  },
  {
   "cell_type": "code",
   "execution_count": 211,
   "metadata": {},
   "outputs": [],
   "source": [
    "pd.Series(chosen_train).to_csv(Path.cwd()/\"out\"/\"chosen_train_ten.txt\",header=None,sep=\" \",index=False)\n",
    "pd.Series(chosen_test).to_csv(Path.cwd()/\"out\"/\"chosen_test_ten.txt\",header=None,sep=\" \",index=False)"
   ]
  },
  {
   "cell_type": "code",
   "execution_count": 212,
   "metadata": {},
   "outputs": [],
   "source": [
    "import pathlib\n",
    "import shutil\n",
    "\n",
    "dataset_ten_path = Path(r\"C:\\Users\\jarma\\Documents\\CIMAT\\3erSem\\Temas Selectos CD\\ProyectoFinal\\dataset_ten\")\n"
   ]
  },
  {
   "cell_type": "code",
   "execution_count": null,
   "metadata": {},
   "outputs": [],
   "source": [
    "\n",
    "for file in chosen_train:\n",
    "    \n",
    "    img_path = folder_path / (file + \".png\")\n",
    "    txt_path = folder_path / (file + \".txt\")\n",
    "    \n",
    "    new_img_path = dataset_ten_path / \"train\" / \"images\" / (file + \".png\")\n",
    "    new_txt_path = dataset_ten_path / \"train\" / \"labels\" / (file + \".txt\")\n",
    "\n",
    "    shutil.copy2(str(img_path), str(new_img_path))\n",
    "    shutil.copy2(str(txt_path), str(new_txt_path))\n",
    "    \n"
   ]
  },
  {
   "cell_type": "code",
   "execution_count": null,
   "metadata": {},
   "outputs": [],
   "source": [
    "for file in chosen_test:\n",
    "    \n",
    "    img_path = folder_path / (file + \".png\")\n",
    "    txt_path = folder_path / (file + \".txt\")\n",
    "    \n",
    "    new_img_path = dataset_ten_path / \"test\" / \"images\" / (file + \".png\")\n",
    "    new_txt_path = dataset_ten_path / \"test\" / \"labels\" / (file + \".txt\")\n",
    "\n",
    "    shutil.copy2(str(img_path), str(new_img_path))\n",
    "    shutil.copy2(str(txt_path), str(new_txt_path))\n"
   ]
  }
 ],
 "metadata": {
  "kernelspec": {
   "display_name": "Python 3.7.11 ('cd1')",
   "language": "python",
   "name": "python3"
  },
  "language_info": {
   "codemirror_mode": {
    "name": "ipython",
    "version": 3
   },
   "file_extension": ".py",
   "mimetype": "text/x-python",
   "name": "python",
   "nbconvert_exporter": "python",
   "pygments_lexer": "ipython3",
   "version": "3.7.11"
  },
  "orig_nbformat": 4,
  "vscode": {
   "interpreter": {
    "hash": "1d6cb27e94252101d1d965aa1fc58737b3d30610c3f707bf4cdc49051e87000b"
   }
  }
 },
 "nbformat": 4,
 "nbformat_minor": 2
}
