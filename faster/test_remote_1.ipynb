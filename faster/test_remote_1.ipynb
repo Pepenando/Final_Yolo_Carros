{
 "cells": [
  {
   "cell_type": "code",
   "execution_count": null,
   "id": "b0e49662",
   "metadata": {},
   "outputs": [],
   "source": [
    "import pathlib\n",
    "from pathlib import Path\n",
    "import pandas as pd\n",
    "\n",
    "import shutil"
   ]
  },
  {
   "cell_type": "code",
   "execution_count": 2,
   "id": "b04964bf",
   "metadata": {},
   "outputs": [
    {
     "name": "stdout",
     "output_type": "stream",
     "text": [
      "3rdparty\t\tinclude\r\n",
      "backup\t\t\tjson_mjpeg_streams.sh\r\n",
      "build\t\t\tLICENSE\r\n",
      "build.ps1\t\tMakefile\r\n",
      "cfg\t\t\tnet_cam_v3.sh\r\n",
      "cmake\t\t\tnet_cam_v4.sh\r\n",
      "CMakeLists.txt\t\tobj\r\n",
      "coco_output\t\tREADME.md\r\n",
      "darknet\t\t\tresults\r\n",
      "DarknetConfig.cmake.in\tscripts\r\n",
      "darknet_images.py\tsrc\r\n",
      "darknet.py\t\ttest_remote_1.ipynb\r\n",
      "darknet_video.py\tvalladolid_merida_8clases_25Oct2022\r\n",
      "data\t\t\tvcpkg.json\r\n",
      "image_yolov3.sh\t\tvideo_yolov3.sh\r\n",
      "image_yolov4.sh\t\tvideo_yolov4.sh\r\n"
     ]
    }
   ],
   "source": [
    "!ls"
   ]
  },
  {
   "cell_type": "code",
   "execution_count": 3,
   "id": "72ae5ca1",
   "metadata": {
    "scrolled": true
   },
   "outputs": [
    {
     "name": "stdout",
     "output_type": "stream",
     "text": [
      "img  obj_8clases.names\r\n"
     ]
    }
   ],
   "source": [
    "!ls valladolid_merida_8clases_25Oct2022"
   ]
  },
  {
   "cell_type": "code",
   "execution_count": 4,
   "id": "43fb96a4",
   "metadata": {},
   "outputs": [
    {
     "name": "stdout",
     "output_type": "stream",
     "text": [
      "/home/jose/darknet\n"
     ]
    }
   ],
   "source": [
    "print(Path.cwd())"
   ]
  },
  {
   "cell_type": "code",
   "execution_count": 5,
   "id": "19fce61d",
   "metadata": {},
   "outputs": [
    {
     "name": "stdout",
     "output_type": "stream",
     "text": [
      "nvcc: NVIDIA (R) Cuda compiler driver\n",
      "Copyright (c) 2005-2022 NVIDIA Corporation\n",
      "Built on Wed_Jun__8_16:49:14_PDT_2022\n",
      "Cuda compilation tools, release 11.7, V11.7.99\n",
      "Build cuda_11.7.r11.7/compiler.31442593_0\n",
      "torch:  1.13 ; cuda:  1.13.0\n",
      "detectron2: 0.6\n"
     ]
    }
   ],
   "source": [
    "import torch, detectron2\n",
    "!nvcc --version\n",
    "TORCH_VERSION = \".\".join(torch.__version__.split(\".\")[:2])\n",
    "CUDA_VERSION = torch.__version__.split(\"+\")[-1]\n",
    "print(\"torch: \", TORCH_VERSION, \"; cuda: \", CUDA_VERSION)\n",
    "print(\"detectron2:\", detectron2.__version__)"
   ]
  },
  {
   "cell_type": "code",
   "execution_count": 6,
   "id": "07409bad",
   "metadata": {
    "collapsed": true
   },
   "outputs": [
    {
     "name": "stdout",
     "output_type": "stream",
     "text": [
      "usage: fiftyone convert [-h] --input-type INPUT_TYPE --output-type OUTPUT_TYPE\r\n",
      "                        [--input-dir INPUT_DIR]\r\n",
      "                        [--input-kwargs KEY=VAL [KEY=VAL ...]]\r\n",
      "                        [--output-dir OUTPUT_DIR]\r\n",
      "                        [--output-kwargs KEY=VAL [KEY=VAL ...]] [-o]\r\n",
      "\r\n",
      "Convert datasets on disk between supported formats.\r\n",
      "\r\n",
      "    Examples::\r\n",
      "\r\n",
      "        # Convert an image classification directory tree to TFRecords format\r\n",
      "        fiftyone convert \\\r\n",
      "            --input-dir /path/to/image-classification-directory-tree \\\r\n",
      "            --input-type fiftyone.types.ImageClassificationDirectoryTree \\\r\n",
      "            --output-dir /path/for/tf-image-classification-dataset \\\r\n",
      "            --output-type fiftyone.types.TFImageClassificationDataset\r\n",
      "\r\n",
      "        # Convert a COCO detection dataset to CVAT image format\r\n",
      "        fiftyone convert \\\r\n",
      "            --input-dir /path/to/coco-detection-dataset \\\r\n",
      "            --input-type fiftyone.types.COCODetectionDataset \\\r\n",
      "            --output-dir /path/for/cvat-image-dataset \\\r\n",
      "            --output-type fiftyone.types.CVATImageDataset\r\n",
      "\r\n",
      "        # Perform a customized conversion via optional kwargs\r\n",
      "        fiftyone convert \\\r\n",
      "            --input-dir /path/to/coco-detection-dataset \\\r\n",
      "            --input-type fiftyone.types.COCODetectionDataset \\\r\n",
      "            --input-kwargs max_samples=100 shuffle=True \\\r\n",
      "            --output-dir /path/for/cvat-image-dataset \\\r\n",
      "            --output-type fiftyone.types.TFObjectDetectionDataset \\\r\n",
      "            --output-kwargs force_rgb=True \\\r\n",
      "            --overwrite\r\n",
      "\r\n",
      "optional arguments:\r\n",
      "  -h, --help            show this help message and exit\r\n",
      "  --input-dir INPUT_DIR\r\n",
      "                        the directory containing the dataset\r\n",
      "  --input-kwargs KEY=VAL [KEY=VAL ...]\r\n",
      "                        additional keyword arguments for `fiftyone.utils.data.convert_dataset(..., input_kwargs=)`\r\n",
      "  --output-dir OUTPUT_DIR\r\n",
      "                        the directory to which to write the output dataset\r\n",
      "  --output-kwargs KEY=VAL [KEY=VAL ...]\r\n",
      "                        additional keyword arguments for `fiftyone.utils.data.convert_dataset(..., output_kwargs=)`\r\n",
      "  -o, --overwrite       whether to overwrite an existing output directory\r\n",
      "\r\n",
      "required arguments:\r\n",
      "  --input-type INPUT_TYPE\r\n",
      "                        the fiftyone.types.Dataset type of the input dataset\r\n",
      "  --output-type OUTPUT_TYPE\r\n",
      "                        the fiftyone.types.Dataset type to output\r\n"
     ]
    }
   ],
   "source": [
    "!fiftyone convert -h"
   ]
  },
  {
   "cell_type": "code",
   "execution_count": 11,
   "id": "5492bf8e",
   "metadata": {},
   "outputs": [],
   "source": [
    "INPUT_DIR = str(Path.cwd() / \"valladolid_merida_8clases_25Oct2022\")\n",
    "OUTPUT_DIR = str(Path.cwd() / \"coco_output\")\n",
    "\n",
    "#INPUT_DIR = str(\"/valladolid_merida_8clases_25Oct2022\")\n",
    "#OUTPUT_DIR = str(\"/coco_output\")"
   ]
  },
  {
   "cell_type": "code",
   "execution_count": 15,
   "id": "ac219208",
   "metadata": {},
   "outputs": [
    {
     "data": {
      "text/plain": [
       "'/home/jose/darknet/valladolid_merida_8clases_25Oct2022'"
      ]
     },
     "execution_count": 15,
     "metadata": {},
     "output_type": "execute_result"
    }
   ],
   "source": [
    "INPUT_DIR"
   ]
  },
  {
   "cell_type": "code",
   "execution_count": 16,
   "id": "f6f02a60",
   "metadata": {},
   "outputs": [
    {
     "name": "stdout",
     "output_type": "stream",
     "text": [
      "Using input format: fiftyone.types.dataset_types.YOLOv4Dataset\n",
      "Using export format: fiftyone.types.dataset_types.COCODetectionDataset\n",
      "Loading dataset from '/home/jose/darknet/valladolid_merida_8clases_25Oct2022'\n",
      "Images file '/home/jose/darknet/valladolid_merida_8clases_25Oct2022/images.txt' not found. Listing data directory '/home/jose/darknet/valladolid_merida_8clases_25Oct2022/data/' instead\n",
      " 100% |█████| 2419/2419 [13.1s elapsed, 0s remaining, 170.9 samples/s]      \n",
      "Exporting dataset to '/home/jose/darknet/coco_output'\n",
      "Directory '/home/jose/darknet/coco_output' already exists; export will be merged with existing files\n",
      "Directory '/home/jose/darknet/coco_output/data/' already exists; export will be merged with existing files\n",
      " 100% |█████| 2419/2419 [6.1m elapsed, 0s remaining, 3.1 samples/s]       \n"
     ]
    }
   ],
   "source": [
    "!fiftyone convert \\\n",
    "    --input-dir $INPUT_DIR --input-type fiftyone.types.YOLOv4Dataset \\\n",
    "    --output-dir $OUTPUT_DIR --output-type fiftyone.types.COCODetectionDataset"
   ]
  },
  {
   "cell_type": "code",
   "execution_count": 17,
   "id": "2c6fa0c7",
   "metadata": {},
   "outputs": [],
   "source": [
    "# separar en 3 carpetas. train, val, test\n"
   ]
  },
  {
   "cell_type": "code",
   "execution_count": 18,
   "id": "500c7aea",
   "metadata": {},
   "outputs": [],
   "source": [
    "folder_path = Path.cwd() / \"valladolid_merida_8clases_25Oct2022\" / \"data\""
   ]
  },
  {
   "cell_type": "code",
   "execution_count": 19,
   "id": "466a1778",
   "metadata": {},
   "outputs": [
    {
     "data": {
      "text/plain": [
       "PosixPath('/home/jose/darknet/valladolid_merida_8clases_25Oct2022/data')"
      ]
     },
     "execution_count": 19,
     "metadata": {},
     "output_type": "execute_result"
    }
   ],
   "source": [
    "folder_path"
   ]
  },
  {
   "cell_type": "code",
   "execution_count": 20,
   "id": "c9cb3fd5",
   "metadata": {},
   "outputs": [],
   "source": [
    "# leyendo la lista de los nombres y archivos\n",
    "all_images = [img.name for img in folder_path.glob('*.png')]\n",
    "all_txts = [txt.name for txt in folder_path.glob('*.txt')]\n",
    "all_names = [img.stem for img in folder_path.glob('*.png')]"
   ]
  },
  {
   "cell_type": "code",
   "execution_count": 23,
   "id": "c6c48e64",
   "metadata": {},
   "outputs": [],
   "source": [
    "# guardando las listas\n",
    "pd.Series(all_images).to_csv(Path.cwd()/\"valladolid_merida_8clases_25Oct2022\"/\"imgs.txt\",header=None,sep=\" \",index=False)\n",
    "pd.Series(all_txts).to_csv(Path.cwd()/\"valladolid_merida_8clases_25Oct2022\"/\"txts.txt\",header=None,sep=\" \",index=False)\n",
    "pd.Series(all_names).to_csv(Path.cwd()/\"valladolid_merida_8clases_25Oct2022\"/\"names.txt\",header=None,sep=\" \",index=False)"
   ]
  },
  {
   "cell_type": "code",
   "execution_count": null,
   "id": "40cb0cfa",
   "metadata": {},
   "outputs": [],
   "source": []
  },
  {
   "cell_type": "code",
   "execution_count": 24,
   "id": "7967b796",
   "metadata": {},
   "outputs": [],
   "source": [
    "the_names = pd.read_csv(Path.cwd()/\"valladolid_merida_8clases_25Oct2022\"/\"names.txt\",header=None,sep=\" \").iloc[:,0].to_list()"
   ]
  },
  {
   "cell_type": "code",
   "execution_count": 26,
   "id": "b7e4e8e2",
   "metadata": {},
   "outputs": [],
   "source": [
    "# train 80% test 10% val 10%\n",
    "\n",
    "from sklearn.model_selection import train_test_split\n",
    "chosen_train, chosen_rest = train_test_split(the_names, test_size=0.20, random_state=42)\n",
    "chosen_test, chosen_val = train_test_split(chosen_rest, test_size=0.50, random_state=42)"
   ]
  },
  {
   "cell_type": "code",
   "execution_count": 27,
   "id": "2b9671d4",
   "metadata": {},
   "outputs": [],
   "source": [
    "original_folder = \"valladolid_merida_8clases_25Oct2022\""
   ]
  },
  {
   "cell_type": "code",
   "execution_count": 28,
   "id": "d3f1f3c8",
   "metadata": {},
   "outputs": [],
   "source": [
    "pd.Series(chosen_train).to_csv(Path.cwd()/original_folder/\"chosen_train.txt\",header=None,sep=\" \",index=False)\n",
    "pd.Series(chosen_test).to_csv(Path.cwd()/original_folder/\"chosen_test.txt\",header=None,sep=\" \",index=False)\n",
    "pd.Series(chosen_val).to_csv(Path.cwd()/original_folder/\"chosen_val.txt\",header=None,sep=\" \",index=False)"
   ]
  },
  {
   "cell_type": "code",
   "execution_count": 35,
   "id": "14060ef0",
   "metadata": {},
   "outputs": [],
   "source": [
    "def copier(new_f,c):\n",
    "    \n",
    "    temp = Path.cwd() / original_folder / new_f \n",
    "    \n",
    "    temp.mkdir(parents=True, exist_ok=True)\n",
    "    \n",
    "    for file in c:\n",
    "    \n",
    "        img_path = folder_path / (file + \".png\")\n",
    "        txt_path = folder_path / (file + \".txt\")\n",
    "\n",
    "        new_img_path = temp / (file + \".png\")\n",
    "        new_txt_path = temp / (file + \".txt\")\n",
    "\n",
    "        shutil.copy2(str(img_path), str(new_img_path))\n",
    "        shutil.copy2(str(txt_path), str(new_txt_path))\n",
    "        \n",
    "    print(new_f, \"folder is done\")\n"
   ]
  },
  {
   "cell_type": "code",
   "execution_count": 36,
   "id": "54a622b2",
   "metadata": {},
   "outputs": [
    {
     "name": "stdout",
     "output_type": "stream",
     "text": [
      "train folder is done\n"
     ]
    }
   ],
   "source": [
    "copier(\"train\",chosen_train)"
   ]
  },
  {
   "cell_type": "code",
   "execution_count": 37,
   "id": "e178e6e9",
   "metadata": {},
   "outputs": [
    {
     "name": "stdout",
     "output_type": "stream",
     "text": [
      "test folder is done\n"
     ]
    }
   ],
   "source": [
    "copier(\"test\",chosen_test)"
   ]
  },
  {
   "cell_type": "code",
   "execution_count": 38,
   "id": "2ac56c3c",
   "metadata": {},
   "outputs": [
    {
     "name": "stdout",
     "output_type": "stream",
     "text": [
      "val folder is done\n"
     ]
    }
   ],
   "source": [
    "copier(\"val\",chosen_val)"
   ]
  },
  {
   "cell_type": "code",
   "execution_count": 39,
   "id": "3caaca73",
   "metadata": {},
   "outputs": [],
   "source": [
    "# convertir a formato COCO"
   ]
  },
  {
   "cell_type": "code",
   "execution_count": 49,
   "id": "ea9125f1",
   "metadata": {},
   "outputs": [],
   "source": [
    "def coco_doer(purpose):\n",
    "    \n",
    "    INPUT_DIR = str(Path.cwd() / original_folder / purpose )\n",
    "    \n",
    "    tmp_str = \"coco_\" + purpose\n",
    "    OUTPUT_DIR = Path.cwd() / tmp_str\n",
    "    OUTPUT_DIR.mkdir(parents=True, exist_ok=True)\n",
    "    OUTPUT_DIR = str(OUTPUT_DIR)\n",
    "\n",
    "    !fiftyone convert \\\n",
    "        --input-dir $INPUT_DIR --input-type fiftyone.types.YOLOv4Dataset \\\n",
    "        --output-dir $OUTPUT_DIR --output-type fiftyone.types.COCODetectionDataset"
   ]
  },
  {
   "cell_type": "code",
   "execution_count": 50,
   "id": "bee9cf8b",
   "metadata": {},
   "outputs": [],
   "source": [
    "# tuve que agregar un nivel las carpetas, renombrar a data y agregar el obj.names"
   ]
  },
  {
   "cell_type": "code",
   "execution_count": 51,
   "id": "7c8cbcb1",
   "metadata": {},
   "outputs": [
    {
     "name": "stdout",
     "output_type": "stream",
     "text": [
      "Using input format: fiftyone.types.dataset_types.YOLOv4Dataset\n",
      "Using export format: fiftyone.types.dataset_types.COCODetectionDataset\n",
      "Loading dataset from '/home/jose/darknet/valladolid_merida_8clases_25Oct2022/train'\n",
      "Images file '/home/jose/darknet/valladolid_merida_8clases_25Oct2022/train/images.txt' not found. Listing data directory '/home/jose/darknet/valladolid_merida_8clases_25Oct2022/train/data/' instead\n",
      " 100% |█████| 1935/1935 [11.3s elapsed, 0s remaining, 159.1 samples/s]      \n",
      "Exporting dataset to '/home/jose/darknet/coco_train'\n",
      "Directory '/home/jose/darknet/coco_train' already exists; export will be merged with existing files\n",
      "Directory '/home/jose/darknet/coco_train/data/' already exists; export will be merged with existing files\n",
      " 100% |█████| 1935/1935 [4.8m elapsed, 0s remaining, 12.4 samples/s]      \n"
     ]
    }
   ],
   "source": [
    "coco_doer(\"train\")"
   ]
  },
  {
   "cell_type": "code",
   "execution_count": 52,
   "id": "da7142b8",
   "metadata": {},
   "outputs": [
    {
     "name": "stdout",
     "output_type": "stream",
     "text": [
      "Using input format: fiftyone.types.dataset_types.YOLOv4Dataset\n",
      "Using export format: fiftyone.types.dataset_types.COCODetectionDataset\n",
      "Loading dataset from '/home/jose/darknet/valladolid_merida_8clases_25Oct2022/test'\n",
      "Images file '/home/jose/darknet/valladolid_merida_8clases_25Oct2022/test/images.txt' not found. Listing data directory '/home/jose/darknet/valladolid_merida_8clases_25Oct2022/test/data/' instead\n",
      " 100% |███████| 242/242 [1.5s elapsed, 0s remaining, 159.0 samples/s]         \n",
      "Exporting dataset to '/home/jose/darknet/coco_test'\n",
      "Directory '/home/jose/darknet/coco_test' already exists; export will be merged with existing files\n",
      " 100% |███████| 242/242 [19.4s elapsed, 0s remaining, 12.2 samples/s]      \n"
     ]
    }
   ],
   "source": [
    "coco_doer(\"test\")"
   ]
  },
  {
   "cell_type": "code",
   "execution_count": 53,
   "id": "8836e318",
   "metadata": {},
   "outputs": [
    {
     "name": "stdout",
     "output_type": "stream",
     "text": [
      "Using input format: fiftyone.types.dataset_types.YOLOv4Dataset\n",
      "Using export format: fiftyone.types.dataset_types.COCODetectionDataset\n",
      "Loading dataset from '/home/jose/darknet/valladolid_merida_8clases_25Oct2022/val'\n",
      "Images file '/home/jose/darknet/valladolid_merida_8clases_25Oct2022/val/images.txt' not found. Listing data directory '/home/jose/darknet/valladolid_merida_8clases_25Oct2022/val/data/' instead\n",
      " 100% |███████| 242/242 [1.4s elapsed, 0s remaining, 176.5 samples/s]         \n",
      "Exporting dataset to '/home/jose/darknet/coco_val'\n",
      "Directory '/home/jose/darknet/coco_val' already exists; export will be merged with existing files\n",
      " 100% |███████| 242/242 [24.0s elapsed, 0s remaining, 12.9 samples/s]      \n"
     ]
    }
   ],
   "source": [
    "coco_doer(\"val\")"
   ]
  },
  {
   "cell_type": "code",
   "execution_count": null,
   "id": "b009c485",
   "metadata": {},
   "outputs": [],
   "source": []
  },
  {
   "cell_type": "code",
   "execution_count": null,
   "id": "3ee9c21f",
   "metadata": {},
   "outputs": [],
   "source": []
  },
  {
   "cell_type": "code",
   "execution_count": null,
   "id": "694a493a",
   "metadata": {},
   "outputs": [],
   "source": []
  },
  {
   "cell_type": "code",
   "execution_count": null,
   "id": "054e183b",
   "metadata": {},
   "outputs": [],
   "source": []
  },
  {
   "cell_type": "code",
   "execution_count": null,
   "id": "132ff977",
   "metadata": {},
   "outputs": [],
   "source": []
  },
  {
   "cell_type": "code",
   "execution_count": null,
   "id": "a0a3e174",
   "metadata": {},
   "outputs": [],
   "source": []
  },
  {
   "cell_type": "code",
   "execution_count": null,
   "id": "f8ff0efb",
   "metadata": {},
   "outputs": [],
   "source": []
  }
 ],
 "metadata": {
  "kernelspec": {
   "display_name": "Python 3 (ipykernel)",
   "language": "python",
   "name": "python3"
  },
  "language_info": {
   "codemirror_mode": {
    "name": "ipython",
    "version": 3
   },
   "file_extension": ".py",
   "mimetype": "text/x-python",
   "name": "python",
   "nbconvert_exporter": "python",
   "pygments_lexer": "ipython3",
   "version": "3.7.13"
  }
 },
 "nbformat": 4,
 "nbformat_minor": 5
}
